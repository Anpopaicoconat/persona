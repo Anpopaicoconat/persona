{
 "cells": [
  {
   "cell_type": "markdown",
   "metadata": {},
   "source": [
    "# prepare"
   ]
  },
  {
   "cell_type": "code",
   "execution_count": 1,
   "metadata": {},
   "outputs": [
    {
     "name": "stderr",
     "output_type": "stream",
     "text": [
      "/home/posokhov@ad.speechpro.com/anaconda3/envs/persona/lib/python3.10/site-packages/tqdm/auto.py:22: TqdmWarning: IProgress not found. Please update jupyter and ipywidgets. See https://ipywidgets.readthedocs.io/en/stable/user_install.html\n",
      "  from .autonotebook import tqdm as notebook_tqdm\n"
     ]
    },
    {
     "ename": "ModuleNotFoundError",
     "evalue": "No module named 't5_model'",
     "output_type": "error",
     "traceback": [
      "\u001b[0;31m---------------------------------------------------------------------------\u001b[0m",
      "\u001b[0;31mModuleNotFoundError\u001b[0m                       Traceback (most recent call last)",
      "\u001b[1;32m/home/posokhov@ad.speechpro.com/projects/persona/train/T5.ipynb Ячейка 2\u001b[0m in \u001b[0;36m<cell line: 13>\u001b[0;34m()\u001b[0m\n\u001b[1;32m     <a href='vscode-notebook-cell://ssh-remote%2Bpc-00-03001.ad.speechpro.com/home/posokhov%40ad.speechpro.com/projects/persona/train/T5.ipynb#W1sdnNjb2RlLXJlbW90ZQ%3D%3D?line=9'>10</a>\u001b[0m \u001b[39mimport\u001b[39;00m \u001b[39mtorchmetrics\u001b[39;00m\n\u001b[1;32m     <a href='vscode-notebook-cell://ssh-remote%2Bpc-00-03001.ad.speechpro.com/home/posokhov%40ad.speechpro.com/projects/persona/train/T5.ipynb#W1sdnNjb2RlLXJlbW90ZQ%3D%3D?line=10'>11</a>\u001b[0m \u001b[39mimport\u001b[39;00m \u001b[39mtransformers\u001b[39;00m\n\u001b[0;32m---> <a href='vscode-notebook-cell://ssh-remote%2Bpc-00-03001.ad.speechpro.com/home/posokhov%40ad.speechpro.com/projects/persona/train/T5.ipynb#W1sdnNjb2RlLXJlbW90ZQ%3D%3D?line=12'>13</a>\u001b[0m \u001b[39mfrom\u001b[39;00m \u001b[39mt5_model\u001b[39;00m \u001b[39mimport\u001b[39;00m multitask_model\n\u001b[1;32m     <a href='vscode-notebook-cell://ssh-remote%2Bpc-00-03001.ad.speechpro.com/home/posokhov%40ad.speechpro.com/projects/persona/train/T5.ipynb#W1sdnNjb2RlLXJlbW90ZQ%3D%3D?line=13'>14</a>\u001b[0m \u001b[39mfrom\u001b[39;00m \u001b[39mt5_utils\u001b[39;00m \u001b[39mimport\u001b[39;00m Toloka_DS, Collator, SequntiaLoader\n\u001b[1;32m     <a href='vscode-notebook-cell://ssh-remote%2Bpc-00-03001.ad.speechpro.com/home/posokhov%40ad.speechpro.com/projects/persona/train/T5.ipynb#W1sdnNjb2RlLXJlbW90ZQ%3D%3D?line=16'>17</a>\u001b[0m pl\u001b[39m.\u001b[39mutilities\u001b[39m.\u001b[39mseed\u001b[39m.\u001b[39mseed_everything(\u001b[39m42\u001b[39m)\n",
      "\u001b[0;31mModuleNotFoundError\u001b[0m: No module named 't5_model'"
     ]
    }
   ],
   "source": [
    "# imports\n",
    "import sys\n",
    "sys.path.append(\"..\")\n",
    "import os\n",
    "import argparse\n",
    "import json\n",
    "\n",
    "import torch\n",
    "import pytorch_lightning as pl\n",
    "import torchmetrics\n",
    "import transformers\n",
    "\n",
    "from t5_model import multitask_model\n",
    "from t5_utils import Toloka_DS, Collator, SequntiaLoader\n",
    "\n",
    "\n",
    "pl.utilities.seed.seed_everything(42)"
   ]
  },
  {
   "cell_type": "code",
   "execution_count": null,
   "metadata": {},
   "outputs": [],
   "source": [
    "# proxy\n",
    "os.environ[\"http_proxy\"] = \"http://proxy.ad.speechpro.com:3128\"\n",
    "os.environ[\"https_proxy\"] = \"http://proxy.ad.speechpro.com:3128\"\n",
    "os.environ[\"ftp_proxy\"] = \"http://proxy.ad.speechpro.com:3128\""
   ]
  },
  {
   "cell_type": "code",
   "execution_count": null,
   "metadata": {},
   "outputs": [],
   "source": [
    "# T5 config\n",
    "batch_size = 86\n",
    "epochs = 15\n",
    "num_warmup_steps = 1000\n",
    "lr = 5e-5\n",
    "# experiment config\n"
   ]
  },
  {
   "cell_type": "markdown",
   "metadata": {},
   "source": [
    "# pretrained model"
   ]
  },
  {
   "cell_type": "code",
   "execution_count": null,
   "metadata": {},
   "outputs": [],
   "source": [
    "# tokenizer\n",
    "tokenizer = transformers.AutoTokenizer.from_pretrained(\"sberbank-ai/ruT5-base\", truncation_side='left', padding_side='right')\n",
    "special_tokens_dict = {\n",
    "    \"additional_special_tokens\": [\n",
    "        \"[Model]\",\n",
    "        \"[User]\",\n",
    "        \"[MaleG]\",\n",
    "        \"[FemaleG]\",\n",
    "        \"[UnknownG]\",\n",
    "        \"[ModelGK]\",\n",
    "        \"[UserGK]\",\n",
    "        \"[WorldGK]\",\n",
    "        \"|DialogContext|:\",\n",
    "        \"|DialogAnswer|:\",\n",
    "        \"|DialogModelGK|:\",\n",
    "        \"|DialogCrossEnc|:\",\n",
    "    ]\n",
    "}\n",
    "tokenizer.add_special_tokens(special_tokens_dict)"
   ]
  },
  {
   "cell_type": "code",
   "execution_count": null,
   "metadata": {},
   "outputs": [],
   "source": [
    "# t5\n",
    "t5 = transformers.T5ForConditionalGeneration.from_pretrained(\"sberbank-ai/ruT5-base\")\n",
    "t5.resize_token_embeddings(len(tokenizer))"
   ]
  },
  {
   "cell_type": "markdown",
   "metadata": {},
   "source": [
    "# data"
   ]
  },
  {
   "cell_type": "code",
   "execution_count": null,
   "metadata": {},
   "outputs": [],
   "source": [
    "# dataset\n",
    "train_answer_dataset = Toloka_DS('/home/stc/persona/data/TlkPersonaChatRus/TolokaPersonaChat_gk(train).jsonl', exaples='answer', ex_per_dialog='all', context_len='all')\n",
    "val_answer_dataset = Toloka_DS('/home/stc/persona/data/TlkPersonaChatRus/TolokaPersonaChat_gk(test).jsonl', exaples='answer', ex_per_dialog='all', context_len='all')\n",
    "\n",
    "train_gk_dataset = Toloka_DS('/home/stc/persona/data/TlkPersonaChatRus/TolokaPersonaChat_gk(train).jsonl', exaples='all_gk', ex_per_dialog='all', context_len='all')\n",
    "val_gk_dataset = Toloka_DS('/home/stc/persona/data/TlkPersonaChatRus/TolokaPersonaChat_gk(test).jsonl', exaples='all_gk', ex_per_dialog='all', context_len='all')"
   ]
  },
  {
   "cell_type": "code",
   "execution_count": null,
   "metadata": {},
   "outputs": [],
   "source": [
    "# cоllator\n",
    "collator = Collator(\n",
    "    spectokens=special_tokens_dict[\"additional_special_tokens\"],\n",
    "    tokenizer=tokenizer,\n",
    "    padding='max_length',\n",
    "    qury_len=64,\n",
    "    cand_len=32,\n",
    ")"
   ]
  },
  {
   "cell_type": "code",
   "execution_count": null,
   "metadata": {},
   "outputs": [],
   "source": [
    "# dataloader\n",
    "train_answer_dataloader = torch.utils.data.DataLoader(\n",
    "    train_answer_dataset, batch_size=batch_size, shuffle=True, collate_fn=collator.BiEncoder\n",
    ")\n",
    "val_answer_dataloader = torch.utils.data.DataLoader(\n",
    "    val_answer_dataset, batch_size=batch_size, shuffle=True, collate_fn=collator.BiEncoder\n",
    ")\n",
    "\n",
    "train_gk_dataloader = torch.utils.data.DataLoader(\n",
    "    train_gk_dataset, batch_size=batch_size, shuffle=True, collate_fn=collator.BiEncoder\n",
    ")\n",
    "val_gk_dataloader = torch.utils.data.DataLoader(\n",
    "    val_gk_dataset, batch_size=batch_size, shuffle=True, collate_fn=collator.BiEncoder\n",
    ")"
   ]
  },
  {
   "cell_type": "code",
   "execution_count": null,
   "metadata": {},
   "outputs": [],
   "source": [
    "train_dataloader = SequntiaLoader({'answer':train_answer_dataloader, 'gk':train_gk_dataloader}, shuffle=True)\n",
    "val_dataloader = SequntiaLoader({'answer':val_answer_dataloader, 'gk':val_gk_dataloader}, shuffle=True)"
   ]
  },
  {
   "cell_type": "code",
   "execution_count": null,
   "metadata": {},
   "outputs": [],
   "source": [
    "# scheduler len\n",
    "scheduler_len = len(train_dataloader) * epochs\n",
    "scheduler_len"
   ]
  },
  {
   "cell_type": "code",
   "execution_count": null,
   "metadata": {},
   "outputs": [],
   "source": [
    "train_dataloader.lens_dict, val_dataloader.lens_dict"
   ]
  },
  {
   "cell_type": "markdown",
   "metadata": {},
   "source": [
    "# pl trainloop"
   ]
  },
  {
   "cell_type": "code",
   "execution_count": null,
   "metadata": {},
   "outputs": [],
   "source": [
    "# pl model\n",
    "model = single_multitask_model(\n",
    "    transformer=t5,\n",
    "    tokenizer=tokenizer,\n",
    "    scheduler_len=scheduler_len,\n",
    "    num_warmup_steps=num_warmup_steps,\n",
    "    lr=lr,\n",
    ")"
   ]
  },
  {
   "cell_type": "code",
   "execution_count": null,
   "metadata": {},
   "outputs": [],
   "source": [
    "# logger\n",
    "logger = pl.loggers.comet.CometLogger(\n",
    "    api_key='sEJsZrYjwc0gxxUAUGQNBwTsb',\n",
    "    save_dir='/home/stc/persona/logs/t5',\n",
    "    project_name='T5',\n",
    "    experiment_name='seq_2bienc',\n",
    ")\n",
    "#logger.log_hyperparams(gpt_args)"
   ]
  },
  {
   "cell_type": "code",
   "execution_count": null,
   "metadata": {},
   "outputs": [],
   "source": [
    "# # checkpoint callback\n",
    "# checkpoint_callback = pl.callbacks.ModelCheckpoint(\n",
    "#      monitor='val_loss',\n",
    "#      dirpath=gpt_args.save_dir,\n",
    "#      filename='gpt-{epoch:02d}-{val_loss:.2f}',\n",
    "#      save_top_k=1,\n",
    "#      mode='min',\n",
    "#  )"
   ]
  },
  {
   "cell_type": "code",
   "execution_count": null,
   "metadata": {},
   "outputs": [],
   "source": [
    "# trainer\n",
    "trainer = pl.Trainer(\n",
    "    max_epochs=epochs,\n",
    "    accelerator=\"gpu\",\n",
    "    devices=1,\n",
    "    gradient_clip_val=1,\n",
    "    logger=logger,\n",
    "    num_sanity_val_steps=10,\n",
    "    #callbacks=[checkpoint_callback]\n",
    ")"
   ]
  },
  {
   "cell_type": "code",
   "execution_count": null,
   "metadata": {},
   "outputs": [],
   "source": [
    "# fit 12.77\n",
    "trainer.fit(model, train_dataloaders=train_dataloader, val_dataloaders=val_dataloader)"
   ]
  }
 ],
 "metadata": {
  "kernelspec": {
   "display_name": "Python 3.10.4 ('persona')",
   "language": "python",
   "name": "python3"
  },
  "language_info": {
   "codemirror_mode": {
    "name": "ipython",
    "version": 3
   },
   "file_extension": ".py",
   "mimetype": "text/x-python",
   "name": "python",
   "nbconvert_exporter": "python",
   "pygments_lexer": "ipython3",
   "version": "3.10.4"
  },
  "orig_nbformat": 4,
  "vscode": {
   "interpreter": {
    "hash": "0a77f7d417d941c84a97d84c46a583790810c2fce19a334bd39b242e993b7b44"
   }
  }
 },
 "nbformat": 4,
 "nbformat_minor": 2
}
