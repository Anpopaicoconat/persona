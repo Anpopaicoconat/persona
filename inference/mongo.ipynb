{
 "cells": [
  {
   "cell_type": "code",
   "execution_count": 17,
   "metadata": {},
   "outputs": [],
   "source": [
    "from pymongo import MongoClient\n",
    "from bson.objectid import ObjectId\n",
    "import os"
   ]
  },
  {
   "cell_type": "code",
   "execution_count": 18,
   "metadata": {},
   "outputs": [],
   "source": [
    "client = MongoClient('localhost', 27017)"
   ]
  },
  {
   "cell_type": "code",
   "execution_count": 19,
   "metadata": {},
   "outputs": [],
   "source": [
    "db = client['ChatBot-Data']\n",
    "msg_table = db['dialogs'] #massages"
   ]
  },
  {
   "cell_type": "code",
   "execution_count": 20,
   "metadata": {},
   "outputs": [],
   "source": [
    "msg_table.drop()"
   ]
  },
  {
   "cell_type": "code",
   "execution_count": 25,
   "metadata": {},
   "outputs": [
    {
     "name": "stdout",
     "output_type": "stream",
     "text": [
      "6366f07de35e4a69d546ba60 971991624\n",
      "{'_id': ObjectId('6366f07de35e4a69d546ba60'), 'user_id': 971991624, 'persons': [[], ['я Саша', 'Я работаю инженером.', 'У меня трое детей', 'У меня есть котенок', 'Я живу в городе Москва', 'Я люблю рисовать', 'Имею высшее образование', 'У меня своя машина', 'Хобби - рыбалка', 'Люблю слушать шансон', 'У меня большая семья.', 'Мне нравится лето.', 'Я люблю комедии.', 'Я знаю четыре языка.', 'У меня есть дача.', 'Я люблю цитрусовые.', 'Я люблю читать книги.', 'Я мечтаю о море', 'Я люблю детей', 'Я никогда не видела жирафа']], 'dialog': [{'person': 0, 'text': 'привет', 'gk': [], 'metric': {'logic': 1, 'spec': 0, 'person': 1}}, {'person': 1, 'text': 'Привет, я Саша', 'gk': [0], 'metric': {'logic': 1, 'spec': 0, 'person': 1}}, {'person': 0, 'text': 'как дела Саша?', 'gk': [], 'metric': {'logic': 1, 'spec': 1, 'person': 1}}, {'person': 1, 'text': 'У меня все хорошо, а у тебя? Я сейчас на даче, отдыхаю от городской суеты, а ты чем занимаешься?', 'gk': [14], 'metric': {'logic': 1, 'spec': 1, 'person': 1}}, {'person': 0, 'text': 'работаю, а кем работаешь ты?', 'gk': [], 'metric': {'logic': 1, 'spec': 0, 'person': 1}}, {'person': 1, 'text': 'Я работаю инженером, а ты?', 'gk': [1], 'metric': {'logic': 1, 'spec': 0, 'person': 1}}, {'person': 0, 'text': 'работаю, а кем работаешь ты?', 'gk': [], 'metric': {'logic': 1, 'spec': 0, 'person': 0}}, {'person': 1, 'text': 'Я работаю инженером, а ты?', 'gk': [1, 18], 'metric': {'logic': 1, 'spec': 0, 'person': 0}}]}\n",
      "{'person': 0, 'text': 'привет', 'gk': [], 'metric': {'logic': 1, 'spec': 0, 'person': 1}}\n",
      "{'person': 1, 'text': 'Привет, я Саша', 'gk': [0], 'metric': {'logic': 1, 'spec': 0, 'person': 1}}\n",
      "{'person': 0, 'text': 'как дела Саша?', 'gk': [], 'metric': {'logic': 1, 'spec': 1, 'person': 1}}\n",
      "{'person': 1, 'text': 'У меня все хорошо, а у тебя? Я сейчас на даче, отдыхаю от городской суеты, а ты чем занимаешься?', 'gk': [14], 'metric': {'logic': 1, 'spec': 1, 'person': 1}}\n",
      "{'person': 0, 'text': 'работаю, а кем работаешь ты?', 'gk': [], 'metric': {'logic': 1, 'spec': 0, 'person': 1}}\n",
      "{'person': 1, 'text': 'Я работаю инженером, а ты?', 'gk': [1], 'metric': {'logic': 1, 'spec': 0, 'person': 1}}\n",
      "{'person': 0, 'text': 'работаю, а кем работаешь ты?', 'gk': [], 'metric': {'logic': 1, 'spec': 0, 'person': 0}}\n",
      "{'person': 1, 'text': 'Я работаю инженером, а ты?', 'gk': [1, 18], 'metric': {'logic': 1, 'spec': 0, 'person': 0}}\n",
      "\n",
      "6366f391529ce48aa074aea9 971991624\n",
      "{'_id': ObjectId('6366f391529ce48aa074aea9'), 'user_id': 971991624, 'persons': [[], ['я Саша', 'Я работаю инженером.', 'У меня трое детей', 'У меня есть котенок', 'Я живу в городе Москва', 'Я люблю рисовать', 'Имею высшее образование', 'У меня своя машина', 'Хобби - рыбалка', 'Люблю слушать шансон', 'У меня большая семья.', 'Мне нравится лето.', 'Я люблю комедии.', 'Я знаю четыре языка.', 'У меня есть дача.', 'Я люблю цитрусовые.', 'Я люблю читать книги.', 'Я мечтаю о море', 'Я люблю детей', 'Я никогда не видела жирафа']], 'dialog': [{'person': 0, 'text': 'привет', 'gk': [], 'metric': {'logic': 1, 'spec': 0, 'person': 1}}, {'person': 1, 'text': 'Привет, я Саша', 'gk': [0], 'metric': {'logic': 1, 'spec': 0, 'person': 1}}, {'person': 0, 'text': 'как дела саша?', 'gk': [], 'metric': {'logic': 0, 'spec': 0, 'person': 0}}, {'person': 1, 'text': 'У меня все хорошо, только со школы пришёл, сейчас покушаю и пойду с собаками гулять, у меня их 2 А ты чем занимаешься?', 'gk': [2, 18], 'metric': {'logic': 0, 'spec': 0, 'person': 0}}, {'person': 0, 'text': 'сколько тебе лет?', 'gk': [], 'metric': {'logic': 0, 'spec': 0, 'person': 1}}, {'person': 1, 'text': 'Мне 17, а тебе?', 'gk': [], 'metric': {'logic': 0, 'spec': 0, 'person': 1}}]}\n",
      "{'person': 0, 'text': 'привет', 'gk': [], 'metric': {'logic': 1, 'spec': 0, 'person': 1}}\n",
      "{'person': 1, 'text': 'Привет, я Саша', 'gk': [0], 'metric': {'logic': 1, 'spec': 0, 'person': 1}}\n",
      "{'person': 0, 'text': 'как дела саша?', 'gk': [], 'metric': {'logic': 0, 'spec': 0, 'person': 0}}\n",
      "{'person': 1, 'text': 'У меня все хорошо, только со школы пришёл, сейчас покушаю и пойду с собаками гулять, у меня их 2 А ты чем занимаешься?', 'gk': [2, 18], 'metric': {'logic': 0, 'spec': 0, 'person': 0}}\n",
      "{'person': 0, 'text': 'сколько тебе лет?', 'gk': [], 'metric': {'logic': 0, 'spec': 0, 'person': 1}}\n",
      "{'person': 1, 'text': 'Мне 17, а тебе?', 'gk': [], 'metric': {'logic': 0, 'spec': 0, 'person': 1}}\n",
      "\n"
     ]
    }
   ],
   "source": [
    "for i in msg_table.find({}):\n",
    "    print(i['_id'], i['user_id'])\n",
    "    print(i)\n",
    "    for msg in i['dialog']:\n",
    "        print(msg)\n",
    "    print()"
   ]
  },
  {
   "cell_type": "code",
   "execution_count": 64,
   "metadata": {},
   "outputs": [],
   "source": [
    "dialog_id='6357afd6b84169270e339c9f'\n",
    "user_id = 42\n",
    "history = [('user', '_0'), ('model', '_1'), ('user', '2'), ('model', '3')]#, ('user', '2'), ('model', '3')\n",
    "persona_ranks = [1]\n",
    "metric = {\"logic\": 0, \"spec\": 0, \"person\": 0}\n",
    "persona_texts = ['da', 'sd', 'gfd']"
   ]
  },
  {
   "cell_type": "code",
   "execution_count": 65,
   "metadata": {},
   "outputs": [
    {
     "data": {
      "text/plain": [
       "'6357afd6b84169270e339c9f'"
      ]
     },
     "execution_count": 65,
     "metadata": {},
     "output_type": "execute_result"
    }
   ],
   "source": [
    "insert_document(\n",
    "    msg_table, dialog_id, user_id, history, persona_ranks, metric, persona_texts\n",
    ")"
   ]
  },
  {
   "cell_type": "code",
   "execution_count": 62,
   "metadata": {},
   "outputs": [
    {
     "name": "stdout",
     "output_type": "stream",
     "text": [
      "{'_id': ObjectId('6357afd6b84169270e339c9f'), 'user_id': 42, 'persons': [[], ['da', 'sd', 'gfd']], 'dialog': [{'person': 0, 'text': '2', 'gk': [], 'metric': {'logic': 0, 'spec': 0, 'person': 0}}, {'person': 1, 'text': '3', 'gk': [1], 'metric': {'logic': 0, 'spec': 0, 'person': 0}}, {'person': 0, 'text': '2', 'gk': [], 'metric': {'logic': 0, 'spec': 0, 'person': 0}}, {'person': 1, 'text': '3', 'gk': [1], 'metric': {'logic': 0, 'spec': 0, 'person': 0}}]}\n"
     ]
    }
   ],
   "source": [
    "for i in msg_table.find({}):\n",
    "    print(i)"
   ]
  },
  {
   "cell_type": "code",
   "execution_count": 63,
   "metadata": {},
   "outputs": [],
   "source": [
    "def insert_document(\n",
    "    collection, dialog_id, user_id, history, persona_ranks, metric, persona_texts\n",
    "):\n",
    "    dialog_id = ObjectId(dialog_id)\n",
    "    dialog_data = collection.find_one({\"_id\": dialog_id})\n",
    "\n",
    "    user_msg = {\"person\": 0, \"text\": history[-2][1], \"gk\": [], \"metric\": metric}\n",
    "    model_msg = {\n",
    "        \"person\": 1,\n",
    "        \"text\": history[-1][1],\n",
    "        \"gk\": persona_ranks,\n",
    "        \"metric\": metric,\n",
    "    }\n",
    "    persons = [[], persona_texts]\n",
    "\n",
    "    if dialog_data is None:\n",
    "        masages = [user_msg, model_msg]\n",
    "        data = {\"user_id\": user_id, \"persons\": persons, \"dialog\": masages}\n",
    "        dialog_id = collection.insert_one(data).inserted_id\n",
    "    else:\n",
    "        dialog_data[\"dialog\"].append(user_msg)\n",
    "        dialog_data[\"dialog\"].append(model_msg)\n",
    "        msg_table.replace_one(\n",
    "            {\"_id\": dialog_data[\"_id\"]},\n",
    "            {\"user_id\": user_id, \"persons\": persons, \"dialog\": dialog_data[\"dialog\"]},\n",
    "        ).upserted_id\n",
    "\n",
    "    return str(dialog_id)\n",
    "\n",
    "\n"
   ]
  },
  {
   "cell_type": "code",
   "execution_count": 19,
   "metadata": {},
   "outputs": [],
   "source": [
    "def find_document(collection, elements, multiple=False):\n",
    "    \"\"\" Function to retrieve single or multiple documents from a provided\n",
    "    Collection using a dictionary containing a document's elements.\n",
    "    \"\"\"\n",
    "    if multiple:\n",
    "        results = collection.find(elements)\n",
    "        return [r for r in results]\n",
    "    else:\n",
    "        return collection.find_one(elements)"
   ]
  },
  {
   "cell_type": "code",
   "execution_count": 26,
   "metadata": {},
   "outputs": [
    {
     "data": {
      "text/plain": [
       "<pymongo.results.DeleteResult at 0x7fbf7c6bbd30>"
      ]
     },
     "execution_count": 26,
     "metadata": {},
     "output_type": "execute_result"
    }
   ],
   "source": [
    "series_collection.delete_many({})"
   ]
  },
  {
   "cell_type": "code",
   "execution_count": 27,
   "metadata": {},
   "outputs": [
    {
     "data": {
      "text/plain": [
       "[]"
      ]
     },
     "execution_count": 27,
     "metadata": {},
     "output_type": "execute_result"
    }
   ],
   "source": [
    "[i for i in series_collection.find({})]"
   ]
  }
 ],
 "metadata": {
  "kernelspec": {
   "display_name": "Python 3.10.6 ('persona')",
   "language": "python",
   "name": "python3"
  },
  "language_info": {
   "codemirror_mode": {
    "name": "ipython",
    "version": 3
   },
   "file_extension": ".py",
   "mimetype": "text/x-python",
   "name": "python",
   "nbconvert_exporter": "python",
   "pygments_lexer": "ipython3",
   "version": "3.10.6"
  },
  "orig_nbformat": 4,
  "vscode": {
   "interpreter": {
    "hash": "12e871139975605d27e2df52837a3758456bf52e5574476cc04e0ddd66d30be3"
   }
  }
 },
 "nbformat": 4,
 "nbformat_minor": 2
}
