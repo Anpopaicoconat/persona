{
 "cells": [
  {
   "cell_type": "code",
   "execution_count": null,
   "metadata": {},
   "outputs": [],
   "source": [
    "import torch\n",
    "import pytorch_lightning as pl\n",
    "import transformers\n",
    "import torchmetrics\n",
    "\n",
    "import pandas as pd\n",
    "import os\n",
    "import json\n",
    "\n",
    "from model import T5MultiTask\n",
    "from data_module import TolokaDataModule"
   ]
  },
  {
   "cell_type": "code",
   "execution_count": null,
   "metadata": {},
   "outputs": [],
   "source": [
    "# proxy\n",
    "os.environ[\"http_proxy\"] = \"http://proxy.ad.speechpro.com:3128\"\n",
    "os.environ[\"https_proxy\"] = \"http://proxy.ad.speechpro.com:3128\"\n",
    "os.environ[\"ftp_proxy\"] = \"http://proxy.ad.speechpro.com:3128\""
   ]
  },
  {
   "cell_type": "code",
   "execution_count": null,
   "metadata": {},
   "outputs": [],
   "source": [
    "train_batch_size = 64"
   ]
  },
  {
   "cell_type": "code",
   "execution_count": null,
   "metadata": {},
   "outputs": [],
   "source": [
    "t5 = transformers.T5ForConditionalGeneration.from_pretrained(\"cointegrated/rut5-base-multitask\", resume_download=True)\n",
    "tokenizer = transformers.AutoTokenizer.from_pretrained(\"cointegrated/rut5-base-multitask\", truncation_side='left', padding_side='right')\n",
    "\n",
    "with open('/home/stc/persona/data/preprocessing/spec_tokens.json') as spec_tokens_config:\n",
    "    spec_tokens = json.load(spec_tokens_config)\n",
    "tokenizer.add_special_tokens(\n",
    "            {\"additional_special_tokens\": [spec_tokens[k] for k in spec_tokens]}\n",
    "        )"
   ]
  },
  {
   "cell_type": "code",
   "execution_count": null,
   "metadata": {},
   "outputs": [],
   "source": [
    "datamodule=TolokaDataModule(\n",
    "    data_dir='/home/stc/persona/data',\n",
    "    datasets=['current_gk', 'next_answer'], #'next_answer', 'current_gk', 'next_gk'\n",
    "    tokenizer=tokenizer,\n",
    "    spec_tokens=spec_tokens,\n",
    "    train_batch_size=128,\n",
    "    val_batch_size=256,\n",
    "    test_batch_size=256,\n",
    ")"
   ]
  },
  {
   "cell_type": "code",
   "execution_count": null,
   "metadata": {},
   "outputs": [],
   "source": [
    "model = T5MultiTask(\n",
    "    model=t5,\n",
    "    datamodule=datamodule,\n",
    "    lr=5e-5,\n",
    "    num_warmup_steps=1000,\n",
    "    pooling=\"mean\",\n",
    "    distance=\"cosine\",\n",
    "    scale=20,\n",
    "    train_batch_size=train_batch_size,\n",
    "    val_batch_size=256,\n",
    "    test_batch_size=256,\n",
    ")"
   ]
  },
  {
   "cell_type": "code",
   "execution_count": null,
   "metadata": {},
   "outputs": [],
   "source": [
    "# logger\n",
    "logger = pl.loggers.comet.CometLogger(\n",
    "    api_key='sEJsZrYjwc0gxxUAUGQNBwTsb',\n",
    "    save_dir='/home/stc/persona/logs',\n",
    "    project_name='chaT5',\n",
    "    experiment_name='current_gk+next_answer base',\n",
    "    log_code=True,\n",
    ")"
   ]
  },
  {
   "cell_type": "code",
   "execution_count": null,
   "metadata": {},
   "outputs": [],
   "source": [
    "# trainer\n",
    "trainer = pl.Trainer(\n",
    "    max_epochs=15,\n",
    "    accelerator=\"gpu\",\n",
    "    devices=1,\n",
    "    gradient_clip_val=1,\n",
    "    logger=logger,\n",
    "    num_sanity_val_steps=10,\n",
    ")\n",
    "trainer.fit(model, datamodule=datamodule)"
   ]
  },
  {
   "cell_type": "code",
   "execution_count": null,
   "metadata": {},
   "outputs": [],
   "source": [
    "datamodule_test=TolokaDataModule(\n",
    "    data_dir='/home/stc/persona/data',\n",
    "    datasets=['current_gk'], #'next_answer', 'current_gk', 'next_gk'\n",
    "    tokenizer=tokenizer,\n",
    "    spec_tokens=spec_tokens,\n",
    "    train_batch_size=train_batch_size,\n",
    "    val_batch_size=256,\n",
    "    test_batch_size=256,\n",
    ")\n",
    "val_set = datamodule_test.val_dataloader()"
   ]
  },
  {
   "cell_type": "code",
   "execution_count": null,
   "metadata": {},
   "outputs": [],
   "source": [
    "model.to('cuda')\n",
    "for val_batch in val_set:\n",
    "    input_ids = val_batch['current_gk']['query']['input_ids']\n",
    "    true_ids = val_batch['current_gk']['candidate']['input_ids']\n",
    "    out = model.transformer.generate(input_ids.to('cuda'), do_sample=True,\n",
    "                num_beams=4,\n",
    "                )\n",
    "    out_text = model.datamodule.tokenizer.batch_decode(out, skip_special_tokens=True)\n",
    "    inp_text = model.datamodule.tokenizer.batch_decode(input_ids, skip_special_tokens=True)\n",
    "    true_text = model.datamodule.tokenizer.batch_decode(true_ids, skip_special_tokens=True)\n",
    "    for inp, out, true in zip(inp_text, out_text, true_text):\n",
    "        print('input:', inp)\n",
    "        print('model output:', out)\n",
    "        print('target output:', true)\n",
    "        print()"
   ]
  },
  {
   "cell_type": "code",
   "execution_count": null,
   "metadata": {},
   "outputs": [],
   "source": [
    "model.to('cuda')\n",
    "for val_batch in val_set:\n",
    "    input_ids = val_batch['next_answer']['query']['input_ids']\n",
    "    true_ids = val_batch['next_answer']['candidate']['input_ids']\n",
    "    out = model.transformer.generate(input_ids.to('cuda'), do_sample=True,\n",
    "                num_beams=4,\n",
    "                )\n",
    "    inp_text = model.datamodule.tokenizer.batch_decode(input_ids, skip_special_tokens=False)\n",
    "    out_text = model.datamodule.tokenizer.batch_decode(out, skip_special_tokens=False)\n",
    "    true_text = model.datamodule.tokenizer.batch_decode(true_ids, skip_special_tokens=False)\n",
    "    for inp, out, true in zip(inp_text, out_text, true_text):\n",
    "        print('input:', inp.replace(\"<pad>\", \"\").replace(\"[Model]\", \"\\n[Model]\").replace(\"[User]\", \"\\n[User]\"))\n",
    "        print('model output:', out.replace(\"<pad>\", \"\"))\n",
    "        print('target output:', true.replace(\"<pad>\", \"\"))\n",
    "        print()"
   ]
  }
 ],
 "metadata": {
  "kernelspec": {
   "display_name": "asr",
   "language": "python",
   "name": "python3"
  },
  "language_info": {
   "codemirror_mode": {
    "name": "ipython",
    "version": 3
   },
   "file_extension": ".py",
   "mimetype": "text/x-python",
   "name": "python",
   "nbconvert_exporter": "python",
   "pygments_lexer": "ipython3",
   "version": "3.8.13"
  },
  "orig_nbformat": 4,
  "vscode": {
   "interpreter": {
    "hash": "191dbb9e29aa279379529ac18f64856cdae5eba81ec3175c8cc481ac2a196107"
   }
  }
 },
 "nbformat": 4,
 "nbformat_minor": 2
}
